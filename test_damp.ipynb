{
 "cells": [
  {
   "cell_type": "code",
   "execution_count": 1,
   "metadata": {},
   "outputs": [],
   "source": [
    "%matplotlib inline"
   ]
  },
  {
   "cell_type": "code",
   "execution_count": 3,
   "metadata": {},
   "outputs": [
    {
     "data": {
      "image/png": "[encoded data removed]",
      "text/plain": [
       "<Figure size 432x288 with 2 Axes>"
      ]
     },
     "metadata": {
      "needs_background": "light"
     },
     "output_type": "display_data"
    }
   ],
   "source": [
    "import numpy as np\n",
    "from matplotlib import pyplot as plt\n",
    "\n",
    "diff_weights = {\n",
    "\t2: [1, -2, 1],\n",
    "\t3: [-1, 3, -3, 1],\n",
    "\t4: [1, -4, 6, -4, 1],\n",
    "\t5: [-1, 5, -10, 10, -5, 1],\n",
    "\t6: [1, -6, 15, -20, 15, -6, 1],\n",
    "\t7: [-1, 7, -21, 35, -35, 21, -7, 1],\n",
    "\t8: [1, -8, 28, -56, 70, -56, 28, -8, 1]\n",
    "}\n",
    "diff_halo_width = {\n",
    "\t2: 1,\n",
    "\t3: 2,\n",
    "\t4: 2,\n",
    "\t5: 3,\n",
    "\t6: 3,\n",
    "\t7: 4,\n",
    "\t8: 4\n",
    "}\n",
    "\n",
    "ord = 8\n",
    "w = diff_weights[ord]\n",
    "ns = diff_halo_width[ord]\n",
    "n = 50\n",
    "dt = 1.0\n",
    "dx = 1.0 / n\n",
    "a = (dx / 2)**ord / dt\n",
    "x = np.linspace(0.0 - ns * dx, 1.0 + (ns - 1) * dx, n + 2 * ns)\n",
    "\n",
    "def classic_damp(ord, n, f, w, dt, dx, a):\n",
    "\tg = f.copy()\n",
    "\tfor i in range(0, n):\n",
    "\t\tg[i+ns] = a * np.sum(f[i:i+2*ns+1] * w) / dx**ord\n",
    "\treturn f + (-1)**(ord / 2 + 1) * dt * g\n",
    "\n",
    "def simple_flux_limited_damp(ord, n, f, w, dt, dx, a):\n",
    "\tF = f.copy()\n",
    "\tw = diff_weights[ord - 1]\n",
    "\tns = diff_halo_width[ord - 1]\n",
    "\tfor i in range(0, n):\n",
    "\t\tF[i+ns] = (-1)**(ord / 2) * a * np.sum(f[i+1:i+2*ns+1] * w) / dx**(ord - 1)\n",
    "\tdf = np.append(np.diff(f), 0)\n",
    "\tfor i in range(0, n):\n",
    "\t\tF[i+ns] = F[i+ns] * np.maximum(0, np.sign(-F[i+ns] * df[i+ns]))\n",
    "\tF[ns-1] = F[n+ns-1]\n",
    "\tg = f.copy()\n",
    "\tfor i in range(0, n):\n",
    "\t\tg[i+ns] = f[i+ns] - dt * (F[i+ns] - F[i+ns-1]) / dx\n",
    "\treturn g\n",
    "\n",
    "f = np.array([0.4 if 0.25 <= _x_ <= 0.75 else -0.4 for _x_ in x])\n",
    "plt.subplot(1, 2, 1)\n",
    "plt.plot(f)\n",
    "\n",
    "k = 0\n",
    "while k < 100:\n",
    "\tf = classic_damp(ord, n, f, w, dt, dx, a)\n",
    "\tf[0:ns] = f[n:n+ns]\n",
    "\tf[n+ns:] = f[ns:2*ns]\n",
    "\tplt.plot(f)\n",
    "\tk = k + 1\n",
    "\n",
    "f = np.array([0.4 if 0.25 <= _x_ <= 0.75 else -0.4 for _x_ in x])\n",
    "plt.subplot(1, 2, 2)\n",
    "plt.plot(f)\n",
    "\n",
    "k = 0\n",
    "while k < 100:\n",
    "\tf = simple_flux_limited_damp(ord, n, f, w, dt, dx, a)\n",
    "\tf[0:ns] = f[n:n+ns]\n",
    "\tf[n+ns:] = f[ns:2*ns]\n",
    "\tplt.plot(f)\n",
    "\tk = k + 1"
   ]
  },
  {
   "cell_type": "code",
   "execution_count": null,
   "metadata": {},
   "outputs": [],
   "source": []
  }
 ],
 "metadata": {
  "kernelspec": {
   "display_name": "Python 3",
   "language": "python",
   "name": "python3"
  },
  "language_info": {
   "codemirror_mode": {
    "name": "ipython",
    "version": 3
   },
   "file_extension": ".py",
   "mimetype": "text/x-python",
   "name": "python",
   "nbconvert_exporter": "python",
   "pygments_lexer": "ipython3",
   "version": "3.7.4"
  }
 },
 "nbformat": 4,
 "nbformat_minor": 4
}
