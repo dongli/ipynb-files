{
 "cells": [
  {
   "cell_type": "code",
   "execution_count": 16,
   "metadata": {},
   "outputs": [],
   "source": [
    "from sympy import *\n",
    "from pprint import pprint\n",
    "\n",
    "h = symbols('h'); f = Function('f')\n",
    "\n",
    "def taylor(f, x, n):\n",
    "\tif x == 0:\n",
    "\t\treturn [1 if i == 0 else 0 for i in range(n+1)]\n",
    "\telse:\n",
    "\t\treturn [list(x.as_coefficients_dict().values())[0] for x in f(x).series(x, x0=0, n=n+1).as_ordered_terms()][:-1]"
   ]
  },
  {
   "cell_type": "code",
   "execution_count": 25,
   "metadata": {},
   "outputs": [
    {
     "name": "stdout",
     "output_type": "stream",
     "text": [
      "1st backward:\n",
      "Matrix([\n",
      "[ 1, 1],\n",
      "[-1, 0]])\n",
      "[-1, 1]\n",
      "1st forward:\n",
      "Matrix([\n",
      "[1, 1],\n",
      "[0, 1]])\n",
      "[-1, 1]\n"
     ]
    }
   ],
   "source": [
    "# 1st order difference formula\n",
    "print('1st backward:')\n",
    "M = Matrix([\n",
    "\ttaylor(f, -1 * h, 1),\n",
    "\ttaylor(f,      0, 1)\n",
    "]).transpose()\n",
    "pprint(M)\n",
    "w = list(M.inv() * Matrix([0, 1]))\n",
    "pprint(w)\n",
    "print('1st forward:')\n",
    "M = Matrix([\n",
    "\ttaylor(f,      0, 1),\n",
    "\ttaylor(f,  1 * h, 1)\n",
    "]).transpose()\n",
    "pprint(M)\n",
    "w = list(M.inv() * Matrix([0, 1]))\n",
    "pprint(w)"
   ]
  },
  {
   "cell_type": "code",
   "execution_count": 17,
   "metadata": {},
   "outputs": [
    {
     "name": "stdout",
     "output_type": "stream",
     "text": [
      "2nd:\n",
      "Matrix([\n",
      "[  1, 1,   1],\n",
      "[ -1, 0,   1],\n",
      "[1/2, 0, 1/2]])\n",
      "[1, -2, 1]\n"
     ]
    }
   ],
   "source": [
    "# 2nd order difference formula\n",
    "print('2nd:')\n",
    "M = Matrix([\n",
    "\ttaylor(f, -1 * h, 2),\n",
    "\ttaylor(f,      0, 2),\n",
    "\ttaylor(f,      h, 2)\n",
    "]).transpose()\n",
    "pprint(M)\n",
    "w = list(M.inv() * Matrix([0, 0, 1]))\n",
    "pprint(w)"
   ]
  },
  {
   "cell_type": "code",
   "execution_count": 29,
   "metadata": {},
   "outputs": [
    {
     "name": "stdout",
     "output_type": "stream",
     "text": [
      "3rd backward:\n",
      "Matrix([\n",
      "[   1,    1, 1,   1],\n",
      "[  -2,   -1, 0,   1],\n",
      "[   2,  1/2, 0, 1/2],\n",
      "[-4/3, -1/6, 0, 1/6]])\n",
      "[-1, 3, -3, 1]\n",
      "3rd forward:\n",
      "Matrix([\n",
      "[   1, 1,   1,   1],\n",
      "[  -1, 0,   1,   2],\n",
      "[ 1/2, 0, 1/2,   2],\n",
      "[-1/6, 0, 1/6, 4/3]])\n",
      "[-1, 3, -3, 1]\n"
     ]
    }
   ],
   "source": [
    "# 3rd order difference formula\n",
    "print('3rd backward:')\n",
    "M = Matrix([\n",
    "\ttaylor(f, -2 * h, 3),\n",
    "\ttaylor(f, -1 * h, 3),\n",
    "\ttaylor(f,      0, 3),\n",
    "\ttaylor(f,  1 * h, 3)\n",
    "]).transpose()\n",
    "pprint(M)\n",
    "w = list(M.inv() * Matrix([0, 0, 0, 1]))\n",
    "pprint(w)\n",
    "print('3rd forward:')\n",
    "M = Matrix([\n",
    "\ttaylor(f, -1 * h, 3),\n",
    "\ttaylor(f,      0, 3),\n",
    "\ttaylor(f,  1 * h, 3),\n",
    "\ttaylor(f,  2 * h, 3)\n",
    "]).transpose()\n",
    "pprint(M)\n",
    "w = list(M.inv() * Matrix([0, 0, 0, 1]))\n",
    "pprint(w)"
   ]
  },
  {
   "cell_type": "code",
   "execution_count": 18,
   "metadata": {},
   "outputs": [
    {
     "name": "stdout",
     "output_type": "stream",
     "text": [
      "4th:\n",
      "Matrix([\n",
      "[   1,    1, 1,    1,   1],\n",
      "[  -2,   -1, 0,    1,   2],\n",
      "[   2,  1/2, 0,  1/2,   2],\n",
      "[-4/3, -1/6, 0,  1/6, 4/3],\n",
      "[ 2/3, 1/24, 0, 1/24, 2/3]])\n",
      "[1, -4, 6, -4, 1]\n"
     ]
    }
   ],
   "source": [
    "# 4th order difference formula\n",
    "print('4th:')\n",
    "M = Matrix([\n",
    "\ttaylor(f, -2 * h, 4),\n",
    "\ttaylor(f, -1 * h, 4),\n",
    "\ttaylor(f,      0, 4),\n",
    "\ttaylor(f,      h, 4),\n",
    "\ttaylor(f,  2 * h, 4)\n",
    "]).transpose()\n",
    "pprint(M)\n",
    "w = list(M.inv() * Matrix([0, 0, 0, 0, 1]))\n",
    "pprint(w)"
   ]
  },
  {
   "cell_type": "code",
   "execution_count": 35,
   "metadata": {},
   "outputs": [
    {
     "name": "stdout",
     "output_type": "stream",
     "text": [
      "5th backward:\n",
      "Matrix([\n",
      "[     1,     1,      1, 1,     1,    1],\n",
      "[    -3,    -2,     -1, 0,     1,    2],\n",
      "[   9/2,     2,    1/2, 0,   1/2,    2],\n",
      "[  -9/2,  -4/3,   -1/6, 0,   1/6,  4/3],\n",
      "[  27/8,   2/3,   1/24, 0,  1/24,  2/3],\n",
      "[-81/40, -4/15, -1/120, 0, 1/120, 4/15]])\n",
      "[-1, 5, -10, 10, -5, 1]\n",
      "5th forward:\n",
      "Matrix([\n",
      "[    1,      1, 1,     1,    1,     1],\n",
      "[   -2,     -1, 0,     1,    2,     3],\n",
      "[    2,    1/2, 0,   1/2,    2,   9/2],\n",
      "[ -4/3,   -1/6, 0,   1/6,  4/3,   9/2],\n",
      "[  2/3,   1/24, 0,  1/24,  2/3,  27/8],\n",
      "[-4/15, -1/120, 0, 1/120, 4/15, 81/40]])\n",
      "[-1, 5, -10, 10, -5, 1]\n"
     ]
    }
   ],
   "source": [
    "# 5th order difference formula\n",
    "print('5th backward:') # On i - 1/2 grid\n",
    "M = Matrix([\n",
    "\ttaylor(f, -3 * h, 5),\n",
    "\ttaylor(f, -2 * h, 5),\n",
    "\ttaylor(f, -1 * h, 5),\n",
    "\ttaylor(f,      0, 5),\n",
    "\ttaylor(f,      h, 5),\n",
    "\ttaylor(f,  2 * h, 5)\n",
    "]).transpose()\n",
    "pprint(M)\n",
    "w = list(M.inv() * Matrix([0, 0, 0, 0, 0, 1]))\n",
    "pprint(w)\n",
    "print('5th forward:') # On i + i/2 grid\n",
    "M = Matrix([\n",
    "\ttaylor(f, -2 * h, 5),\n",
    "\ttaylor(f, -1 * h, 5),\n",
    "\ttaylor(f,      0, 5),\n",
    "\ttaylor(f,      h, 5),\n",
    "\ttaylor(f,  2 * h, 5),\n",
    "\ttaylor(f,  3 * h, 5)\n",
    "]).transpose()\n",
    "pprint(M)\n",
    "w = list(M.inv() * Matrix([0, 0, 0, 0, 0, 1]))\n",
    "pprint(w)"
   ]
  },
  {
   "cell_type": "code",
   "execution_count": 20,
   "metadata": {},
   "outputs": [
    {
     "name": "stdout",
     "output_type": "stream",
     "text": [
      "6th:\n",
      "Matrix([\n",
      "[     1,     1,      1, 1,     1,    1,     1],\n",
      "[    -3,    -2,     -1, 0,     1,    2,     3],\n",
      "[   9/2,     2,    1/2, 0,   1/2,    2,   9/2],\n",
      "[  -9/2,  -4/3,   -1/6, 0,   1/6,  4/3,   9/2],\n",
      "[  27/8,   2/3,   1/24, 0,  1/24,  2/3,  27/8],\n",
      "[-81/40, -4/15, -1/120, 0, 1/120, 4/15, 81/40],\n",
      "[ 81/80,  4/45,  1/720, 0, 1/720, 4/45, 81/80]])\n",
      "[1, -6, 15, -20, 15, -6, 1]\n"
     ]
    }
   ],
   "source": [
    "# 6th order difference formula\n",
    "print('6th:')\n",
    "M = Matrix([\n",
    "\ttaylor(f, -3 * h, 6),\n",
    "\ttaylor(f, -2 * h, 6),\n",
    "\ttaylor(f, -1 * h, 6),\n",
    "\ttaylor(f,      0, 6),\n",
    "\ttaylor(f,  1 * h, 6),\n",
    "\ttaylor(f,  2 * h, 6),\n",
    "\ttaylor(f,  3 * h, 6)\n",
    "]).transpose()\n",
    "pprint(M)\n",
    "w = list(M.inv() * Matrix([0, 0, 0, 0, 0, 0, 1]))\n",
    "pprint(w)"
   ]
  },
  {
   "cell_type": "code",
   "execution_count": 36,
   "metadata": {},
   "outputs": [
    {
     "name": "stdout",
     "output_type": "stream",
     "text": [
      "7th backward:\n",
      "Matrix([\n",
      "[        1,        1,      1,       1, 1,      1,     1,       1],\n",
      "[       -4,       -3,     -2,      -1, 0,      1,     2,       3],\n",
      "[        8,      9/2,      2,     1/2, 0,    1/2,     2,     9/2],\n",
      "[    -32/3,     -9/2,   -4/3,    -1/6, 0,    1/6,   4/3,     9/2],\n",
      "[     32/3,     27/8,    2/3,    1/24, 0,   1/24,   2/3,    27/8],\n",
      "[  -128/15,   -81/40,  -4/15,  -1/120, 0,  1/120,  4/15,   81/40],\n",
      "[   256/45,    81/80,   4/45,   1/720, 0,  1/720,  4/45,   81/80],\n",
      "[-1024/315, -243/560, -8/315, -1/5040, 0, 1/5040, 8/315, 243/560]])\n",
      "[-1, 7, -21, 35, -35, 21, -7, 1]\n"
     ]
    }
   ],
   "source": [
    "# 7th order difference formula\n",
    "print('7th backward:') # On i - 1/2 grid\n",
    "M = Matrix([\n",
    "\ttaylor(f, -4 * h, 7),\n",
    "\ttaylor(f, -3 * h, 7),\n",
    "\ttaylor(f, -2 * h, 7),\n",
    "\ttaylor(f, -1 * h, 7),\n",
    "\ttaylor(f,      0, 7),\n",
    "\ttaylor(f,      h, 7),\n",
    "\ttaylor(f,  2 * h, 7),\n",
    "\ttaylor(f,  3 * h, 7)\n",
    "]).transpose()\n",
    "pprint(M)\n",
    "w = list(M.inv() * Matrix([0, 0, 0, 0, 0, 0, 0, 1]))\n",
    "pprint(w)"
   ]
  },
  {
   "cell_type": "code",
   "execution_count": 19,
   "metadata": {},
   "outputs": [
    {
     "name": "stdout",
     "output_type": "stream",
     "text": [
      "8th:\n",
      "Matrix([\n",
      "[        1,        1,      1,       1, 1,       1,     1,        1,        1],\n",
      "[       -4,       -3,     -2,      -1, 0,       1,     2,        3,        4],\n",
      "[        8,      9/2,      2,     1/2, 0,     1/2,     2,      9/2,        8],\n",
      "[    -32/3,     -9/2,   -4/3,    -1/6, 0,     1/6,   4/3,      9/2,     32/3],\n",
      "[     32/3,     27/8,    2/3,    1/24, 0,    1/24,   2/3,     27/8,     32/3],\n",
      "[  -128/15,   -81/40,  -4/15,  -1/120, 0,   1/120,  4/15,    81/40,   128/15],\n",
      "[   256/45,    81/80,   4/45,   1/720, 0,   1/720,  4/45,    81/80,   256/45],\n",
      "[-1024/315, -243/560, -8/315, -1/5040, 0,  1/5040, 8/315,  243/560, 1024/315],\n",
      "[  512/315, 729/4480,  2/315, 1/40320, 0, 1/40320, 2/315, 729/4480,  512/315]])\n",
      "[1, -8, 28, -56, 70, -56, 28, -8, 1]\n"
     ]
    }
   ],
   "source": [
    "# 8th order difference formula\n",
    "print('8th:')\n",
    "M = Matrix([\n",
    "\ttaylor(f, -4 * h, 8),\n",
    "\ttaylor(f, -3 * h, 8),\n",
    "\ttaylor(f, -2 * h, 8),\n",
    "\ttaylor(f, -1 * h, 8),\n",
    "\ttaylor(f,      0, 8),\n",
    "\ttaylor(f,  1 * h, 8),\n",
    "\ttaylor(f,  2 * h, 8),\n",
    "\ttaylor(f,  3 * h, 8),\n",
    "\ttaylor(f,  4 * h, 8)\n",
    "]).transpose()\n",
    "pprint(M)\n",
    "w = list(M.inv() * Matrix([0, 0, 0, 0, 0, 0, 0, 0, 1]))\n",
    "pprint(w)"
   ]
  }
 ],
 "metadata": {
  "kernelspec": {
   "display_name": "Python 3",
   "language": "python",
   "name": "python3"
  },
  "language_info": {
   "codemirror_mode": {
    "name": "ipython",
    "version": 3
   },
   "file_extension": ".py",
   "mimetype": "text/x-python",
   "name": "python",
   "nbconvert_exporter": "python",
   "pygments_lexer": "ipython3",
   "version": "3.7.4"
  }
 },
 "nbformat": 4,
 "nbformat_minor": 4
}
